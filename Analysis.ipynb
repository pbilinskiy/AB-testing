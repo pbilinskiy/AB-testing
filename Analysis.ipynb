{
 "cells": [
  {
   "cell_type": "markdown",
   "metadata": {},
   "source": [
    "# A/B testing: conversion rate"
   ]
  },
  {
   "cell_type": "markdown",
   "metadata": {},
   "source": [
    "Loading data from disk"
   ]
  },
  {
   "cell_type": "code",
   "execution_count": 1,
   "metadata": {},
   "outputs": [
    {
     "name": "stdout",
     "output_type": "stream",
     "text": [
      "Number of visits = 294478\n"
     ]
    },
    {
     "data": {
      "text/html": [
       "<div>\n",
       "<style scoped>\n",
       "    .dataframe tbody tr th:only-of-type {\n",
       "        vertical-align: middle;\n",
       "    }\n",
       "\n",
       "    .dataframe tbody tr th {\n",
       "        vertical-align: top;\n",
       "    }\n",
       "\n",
       "    .dataframe thead th {\n",
       "        text-align: right;\n",
       "    }\n",
       "</style>\n",
       "<table border=\"1\" class=\"dataframe\">\n",
       "  <thead>\n",
       "    <tr style=\"text-align: right;\">\n",
       "      <th></th>\n",
       "      <th>user_id</th>\n",
       "      <th>timestamp</th>\n",
       "      <th>group</th>\n",
       "      <th>landing_page</th>\n",
       "      <th>converted</th>\n",
       "    </tr>\n",
       "  </thead>\n",
       "  <tbody>\n",
       "    <tr>\n",
       "      <th>0</th>\n",
       "      <td>851104</td>\n",
       "      <td>2017-01-21 22:11:48.556739</td>\n",
       "      <td>control</td>\n",
       "      <td>old_page</td>\n",
       "      <td>0</td>\n",
       "    </tr>\n",
       "    <tr>\n",
       "      <th>1</th>\n",
       "      <td>804228</td>\n",
       "      <td>2017-01-12 08:01:45.159739</td>\n",
       "      <td>control</td>\n",
       "      <td>old_page</td>\n",
       "      <td>0</td>\n",
       "    </tr>\n",
       "    <tr>\n",
       "      <th>2</th>\n",
       "      <td>661590</td>\n",
       "      <td>2017-01-11 16:55:06.154213</td>\n",
       "      <td>treatment</td>\n",
       "      <td>new_page</td>\n",
       "      <td>0</td>\n",
       "    </tr>\n",
       "    <tr>\n",
       "      <th>3</th>\n",
       "      <td>853541</td>\n",
       "      <td>2017-01-08 18:28:03.143765</td>\n",
       "      <td>treatment</td>\n",
       "      <td>new_page</td>\n",
       "      <td>0</td>\n",
       "    </tr>\n",
       "    <tr>\n",
       "      <th>4</th>\n",
       "      <td>864975</td>\n",
       "      <td>2017-01-21 01:52:26.210827</td>\n",
       "      <td>control</td>\n",
       "      <td>old_page</td>\n",
       "      <td>1</td>\n",
       "    </tr>\n",
       "  </tbody>\n",
       "</table>\n",
       "</div>"
      ],
      "text/plain": [
       "   user_id                   timestamp      group landing_page  converted\n",
       "0   851104  2017-01-21 22:11:48.556739    control     old_page          0\n",
       "1   804228  2017-01-12 08:01:45.159739    control     old_page          0\n",
       "2   661590  2017-01-11 16:55:06.154213  treatment     new_page          0\n",
       "3   853541  2017-01-08 18:28:03.143765  treatment     new_page          0\n",
       "4   864975  2017-01-21 01:52:26.210827    control     old_page          1"
      ]
     },
     "execution_count": 1,
     "metadata": {},
     "output_type": "execute_result"
    }
   ],
   "source": [
    "import numpy as np\n",
    "import pandas as pd\n",
    "import matplotlib\n",
    "import matplotlib.pyplot as plt\n",
    "import seaborn as sns\n",
    "\n",
    "df = pd.read_csv(\"ab_data.csv\")\n",
    "print(\"Number of visits =\", df.shape[0])\n",
    "df.head()"
   ]
  },
  {
   "cell_type": "markdown",
   "metadata": {},
   "source": [
    "## Exploratory Data Analysis and Data preparation"
   ]
  },
  {
   "cell_type": "markdown",
   "metadata": {},
   "source": [
    "Let's primarally explore our features. For each feature we want to display:\n",
    " - number of unique values, \n",
    " \n",
    " - range of values, \n",
    " \n",
    " - number of missing values, \n",
    " \n",
    " - a few examples of values"
   ]
  },
  {
   "cell_type": "code",
   "execution_count": 2,
   "metadata": {
    "scrolled": true
   },
   "outputs": [
    {
     "data": {
      "text/html": [
       "<div>\n",
       "<style scoped>\n",
       "    .dataframe tbody tr th:only-of-type {\n",
       "        vertical-align: middle;\n",
       "    }\n",
       "\n",
       "    .dataframe tbody tr th {\n",
       "        vertical-align: top;\n",
       "    }\n",
       "\n",
       "    .dataframe thead th {\n",
       "        text-align: right;\n",
       "    }\n",
       "</style>\n",
       "<table border=\"1\" class=\"dataframe\">\n",
       "  <thead>\n",
       "    <tr style=\"text-align: right;\">\n",
       "      <th></th>\n",
       "      <th># unique</th>\n",
       "      <th>range</th>\n",
       "      <th># missing</th>\n",
       "      <th>examples</th>\n",
       "    </tr>\n",
       "  </thead>\n",
       "  <tbody>\n",
       "    <tr>\n",
       "      <th>user_id</th>\n",
       "      <td>290584</td>\n",
       "      <td>[945999, 630000]</td>\n",
       "      <td>0</td>\n",
       "      <td>[851104, 804228]</td>\n",
       "    </tr>\n",
       "    <tr>\n",
       "      <th>timestamp</th>\n",
       "      <td>294478</td>\n",
       "      <td>[2017-01-24 13:41:54.460509, 2017-01-02 13:42:...</td>\n",
       "      <td>0</td>\n",
       "      <td>[2017-01-21 22:11:48.556739, 2017-01-12 08:01:...</td>\n",
       "    </tr>\n",
       "    <tr>\n",
       "      <th>group</th>\n",
       "      <td>2</td>\n",
       "      <td>[treatment, control]</td>\n",
       "      <td>0</td>\n",
       "      <td>[control, treatment]</td>\n",
       "    </tr>\n",
       "    <tr>\n",
       "      <th>landing_page</th>\n",
       "      <td>2</td>\n",
       "      <td>[old_page, new_page]</td>\n",
       "      <td>0</td>\n",
       "      <td>[old_page, new_page]</td>\n",
       "    </tr>\n",
       "    <tr>\n",
       "      <th>converted</th>\n",
       "      <td>2</td>\n",
       "      <td>[1, 0]</td>\n",
       "      <td>0</td>\n",
       "      <td>[0, 1]</td>\n",
       "    </tr>\n",
       "  </tbody>\n",
       "</table>\n",
       "</div>"
      ],
      "text/plain": [
       "             # unique                                              range  \\\n",
       "user_id        290584                                   [945999, 630000]   \n",
       "timestamp      294478  [2017-01-24 13:41:54.460509, 2017-01-02 13:42:...   \n",
       "group               2                               [treatment, control]   \n",
       "landing_page        2                               [old_page, new_page]   \n",
       "converted           2                                             [1, 0]   \n",
       "\n",
       "             # missing                                           examples  \n",
       "user_id              0                                   [851104, 804228]  \n",
       "timestamp            0  [2017-01-21 22:11:48.556739, 2017-01-12 08:01:...  \n",
       "group                0                               [control, treatment]  \n",
       "landing_page         0                               [old_page, new_page]  \n",
       "converted            0                                             [0, 1]  "
      ]
     },
     "execution_count": 2,
     "metadata": {},
     "output_type": "execute_result"
    }
   ],
   "source": [
    "summary = pd.DataFrame(index=df.columns, columns=[\"# unique\", \"range\", \"# missing\", \"examples\"])\n",
    "for name in df.columns:\n",
    "    summary.loc[name, \"# unique\"] = df[name].nunique()\n",
    "    summary.loc[name, \"range\"] = [df[name].max(), df[name].min()]\n",
    "    summary.loc[name, \"# missing\"] = df[name].isna().sum()\n",
    "    summary.loc[name, \"examples\"] = df[name].unique()[:2]\n",
    "summary"
   ]
  },
  {
   "cell_type": "markdown",
   "metadata": {},
   "source": [
    "Next, we should figure out, how features \"group\" and \"landing_page\" are connected. \n",
    "We expect each user from control group to land on the old page. Analogically for users from treatment group."
   ]
  },
  {
   "cell_type": "code",
   "execution_count": 3,
   "metadata": {},
   "outputs": [
    {
     "data": {
      "text/html": [
       "<div>\n",
       "<style scoped>\n",
       "    .dataframe tbody tr th:only-of-type {\n",
       "        vertical-align: middle;\n",
       "    }\n",
       "\n",
       "    .dataframe tbody tr th {\n",
       "        vertical-align: top;\n",
       "    }\n",
       "\n",
       "    .dataframe thead th {\n",
       "        text-align: right;\n",
       "    }\n",
       "</style>\n",
       "<table border=\"1\" class=\"dataframe\">\n",
       "  <thead>\n",
       "    <tr style=\"text-align: right;\">\n",
       "      <th>landing_page</th>\n",
       "      <th>new_page</th>\n",
       "      <th>old_page</th>\n",
       "    </tr>\n",
       "    <tr>\n",
       "      <th>group</th>\n",
       "      <th></th>\n",
       "      <th></th>\n",
       "    </tr>\n",
       "  </thead>\n",
       "  <tbody>\n",
       "    <tr>\n",
       "      <th>control</th>\n",
       "      <td>1928</td>\n",
       "      <td>145274</td>\n",
       "    </tr>\n",
       "    <tr>\n",
       "      <th>treatment</th>\n",
       "      <td>145311</td>\n",
       "      <td>1965</td>\n",
       "    </tr>\n",
       "  </tbody>\n",
       "</table>\n",
       "</div>"
      ],
      "text/plain": [
       "landing_page  new_page  old_page\n",
       "group                           \n",
       "control           1928    145274\n",
       "treatment       145311      1965"
      ]
     },
     "execution_count": 3,
     "metadata": {},
     "output_type": "execute_result"
    }
   ],
   "source": [
    "pd.crosstab(df['group'], df['landing_page'])"
   ]
  },
  {
   "cell_type": "markdown",
   "metadata": {},
   "source": [
    "Ooops. Apparently, there are users that landed at wrong page by mistake. Removing visits by mistake:"
   ]
  },
  {
   "cell_type": "code",
   "execution_count": 4,
   "metadata": {},
   "outputs": [
    {
     "name": "stdout",
     "output_type": "stream",
     "text": [
      "['old_page']\n"
     ]
    }
   ],
   "source": [
    "mask =  ((df[\"group\"] == \"control\")   & (df[\"landing_page\"] ==\"old_page\")) | \\\n",
    "        ((df[\"group\"] == \"treatment\") & (df[\"landing_page\"] ==\"new_page\"))\n",
    "\n",
    "df = df[mask]\n",
    "\n",
    "# check: must not contain \"new_page\"\n",
    "print(df[df[\"group\"] == \"control\"][\"landing_page\"].unique())"
   ]
  },
  {
   "cell_type": "markdown",
   "metadata": {},
   "source": [
    "Okay. \n",
    "\n",
    "We go further. There may be users with 2 or more visits."
   ]
  },
  {
   "cell_type": "code",
   "execution_count": 5,
   "metadata": {},
   "outputs": [
    {
     "data": {
      "text/plain": [
       "773192    2\n",
       "630732    1\n",
       "811737    1\n",
       "797392    1\n",
       "795345    1\n",
       "Name: user_id, dtype: int64"
      ]
     },
     "execution_count": 5,
     "metadata": {},
     "output_type": "execute_result"
    }
   ],
   "source": [
    "counts = pd.DataFrame(df[\"user_id\"], index = df.index)\n",
    "counts = counts[\"user_id\"].value_counts()\n",
    "ids = counts[counts > 1].index.values\n",
    "df_recurring = df.loc[df['user_id'].isin(ids)]\n",
    "\n",
    "counts.head()"
   ]
  },
  {
   "cell_type": "markdown",
   "metadata": {},
   "source": [
    "Strategy: delete all duplicate visits except one."
   ]
  },
  {
   "cell_type": "code",
   "execution_count": 6,
   "metadata": {},
   "outputs": [
    {
     "name": "stdout",
     "output_type": "stream",
     "text": [
      "We drop the following recurring visits :  [1899]\n"
     ]
    }
   ],
   "source": [
    "ind_to_drop = []\n",
    "for user_id in ids:\n",
    "    for group in [\"control\", \"treatment\"]:\n",
    "        for landing_page in [\"old_page\", \"new_page\"]:\n",
    "            for converted in [0, 1]:\n",
    "                arr  = (df_recurring.loc[(df_recurring[\"user_id\"]==user_id) & \n",
    "                                        (df_recurring[\"group\"]==group) & \n",
    "                                        (df_recurring[\"landing_page\"]==landing_page) & \n",
    "                                        (df_recurring[\"converted\"]==converted)]\n",
    "                                    .index[:1]\n",
    "                       )\n",
    "                if len(arr) == 1:\n",
    "                    ind_to_drop.append(arr[0])\n",
    "                    \n",
    "print(\"We drop the following recurring visits : \", ind_to_drop)\n",
    "df = df[~df[\"user_id\"].isin(ind_to_drop)]"
   ]
  },
  {
   "cell_type": "markdown",
   "metadata": {},
   "source": [
    "Next,we want to detect seasonality in time series of CR."
   ]
  },
  {
   "cell_type": "code",
   "execution_count": 7,
   "metadata": {
    "scrolled": false
   },
   "outputs": [
    {
     "data": {
      "text/html": [
       "<div>\n",
       "<style scoped>\n",
       "    .dataframe tbody tr th:only-of-type {\n",
       "        vertical-align: middle;\n",
       "    }\n",
       "\n",
       "    .dataframe tbody tr th {\n",
       "        vertical-align: top;\n",
       "    }\n",
       "\n",
       "    .dataframe thead th {\n",
       "        text-align: right;\n",
       "    }\n",
       "</style>\n",
       "<table border=\"1\" class=\"dataframe\">\n",
       "  <thead>\n",
       "    <tr style=\"text-align: right;\">\n",
       "      <th></th>\n",
       "      <th></th>\n",
       "      <th>conv_rate</th>\n",
       "      <th>size</th>\n",
       "    </tr>\n",
       "    <tr>\n",
       "      <th>group</th>\n",
       "      <th>day</th>\n",
       "      <th></th>\n",
       "      <th></th>\n",
       "    </tr>\n",
       "  </thead>\n",
       "  <tbody>\n",
       "    <tr>\n",
       "      <th rowspan=\"5\" valign=\"top\">control</th>\n",
       "      <th>2</th>\n",
       "      <td>0.125568</td>\n",
       "      <td>2859</td>\n",
       "    </tr>\n",
       "    <tr>\n",
       "      <th>3</th>\n",
       "      <td>0.113809</td>\n",
       "      <td>6590</td>\n",
       "    </tr>\n",
       "    <tr>\n",
       "      <th>4</th>\n",
       "      <td>0.121922</td>\n",
       "      <td>6578</td>\n",
       "    </tr>\n",
       "    <tr>\n",
       "      <th>5</th>\n",
       "      <td>0.123230</td>\n",
       "      <td>6427</td>\n",
       "    </tr>\n",
       "    <tr>\n",
       "      <th>6</th>\n",
       "      <td>0.115350</td>\n",
       "      <td>6606</td>\n",
       "    </tr>\n",
       "  </tbody>\n",
       "</table>\n",
       "</div>"
      ],
      "text/plain": [
       "             conv_rate  size\n",
       "group   day                 \n",
       "control 2     0.125568  2859\n",
       "        3     0.113809  6590\n",
       "        4     0.121922  6578\n",
       "        5     0.123230  6427\n",
       "        6     0.115350  6606"
      ]
     },
     "execution_count": 7,
     "metadata": {},
     "output_type": "execute_result"
    }
   ],
   "source": [
    "df[\"day\"] = pd.to_datetime(df[\"timestamp\"]).dt.day\n",
    "\n",
    "conv_days = (df[[\"day\", \"group\", \"converted\"]]\n",
    "              .groupby([\"group\", \"day\"])\n",
    "              .agg([\"mean\", \"size\"])\n",
    "             )\n",
    "conv_days.columns = [\"conv_rate\", \"size\"]\n",
    "control_days = conv_days.loc[\"control\"]\n",
    "treatment_days = conv_days.loc[\"treatment\"]\n",
    "conv_days.head()"
   ]
  },
  {
   "cell_type": "code",
   "execution_count": 20,
   "metadata": {},
   "outputs": [
    {
     "data": {
      "image/png": "[encoded data removed]",
      "text/plain": [
       "<Figure size 720x360 with 1 Axes>"
      ]
     },
     "metadata": {},
     "output_type": "display_data"
    }
   ],
   "source": [
    "fig = plt.figure(figsize=(10, 5))\n",
    "sns.set_theme()\n",
    "plt.plot(control_days.index, control_days[\"conv_rate\"], label=\"control\", color=\"#d8b365\")\n",
    "plt.plot(treatment_days.index, treatment_days[\"conv_rate\"], label=\"treatment\", color= \"#5ab4ac\")\n",
    "plt.xticks(control_days.index)\n",
    "plt.ylim(0.09, 0.15)\n",
    "plt.xlabel(\"day\")\n",
    "plt.ylabel(\"conversion rate\")\n",
    "plt.title(\"Conversion rate time series (in January 2017)\")\n",
    "ax=plt.gca()\n",
    "\n",
    "for weekend in [6.5, 8.5], [13.5, 15.5], [20.5, 22.5]:\n",
    "    ax.fill_between(weekend, [1, 1], \n",
    "                color='red', alpha=0.1)\n",
    "    \n",
    "plt.text(4, 0.145, \"weekend\", fontsize=12, color=\"red\", alpha=0.5)\n",
    "\n",
    "plt.legend();"
   ]
  },
  {
   "cell_type": "markdown",
   "metadata": {},
   "source": [
    "We suspect increasing of CR of control group and decresing CR of treatment group in 14 and 15 January (Saturday and Sunday).\n",
    "\n",
    "By days of week:"
   ]
  },
  {
   "cell_type": "code",
   "execution_count": null,
   "metadata": {},
   "outputs": [],
   "source": [
    "df[\"day\"] = pd.to_datetime(df[\"timestamp\"]).dt.dayofweek\n",
    "\n",
    "conv_days = (df[[\"day\", \"group\", \"converted\"]]\n",
    "              .groupby([\"group\", \"day\"])\n",
    "              .agg([\"mean\", \"size\"])\n",
    "             )\n",
    "\n",
    "conv_days.columns = [\"conv_rate\", \"size\"]\n",
    "conv_days.reset_index(inplace=True)\n",
    "conv_days\n"
   ]
  },
  {
   "cell_type": "code",
   "execution_count": null,
   "metadata": {},
   "outputs": [],
   "source": [
    "\n",
    "def plot_cr_days(group_name):\n",
    "    data = conv_days[conv_days[\"group\"]==group_name]\n",
    "    mean_cr = data[\"conv_rate\"].mean() \n",
    "    \n",
    "    fig = plt.figure(figsize=(10, 5))\n",
    "    plt.axhline(mean_cr, \n",
    "                color=\"black\", \n",
    "                linestyle=\"--\", \n",
    "                linewidth=1, \n",
    "                label=\"CR for all days\")\n",
    "\n",
    "    color = \"#d8b365\" if (group_name == \"control\") else \"#5ab4ac\"\n",
    "    sns.barplot(x=\"day\", y=\"conv_rate\",\n",
    "                data=data, \n",
    "                color=color)\n",
    "    plt.grid(axis=\"y\", color=\"white\")\n",
    "    ax = plt.gca()\n",
    "    ax.set_xticklabels([\"Mon\", \"Tue\", \"Wed\", \"Thu\", \"Fri\", \"Sat\", \"Sun\"])\n",
    "    ax.set_axisbelow(True)\n",
    "    plt.ylim(0.09, 0.15)\n",
    "\n",
    "    plt.title(\"Conversion rate on days of week\")\n",
    "    plt.ylabel(\"conversion rate\")\n",
    "    plt.legend()\n",
    "    plt.show()\n",
    "\n",
    "    \n",
    "plot_cr_days(\"control\")\n",
    "plot_cr_days(\"treatment\")"
   ]
  },
  {
   "cell_type": "markdown",
   "metadata": {},
   "source": [
    "We don't observe any seasonality by week day."
   ]
  },
  {
   "cell_type": "markdown",
   "metadata": {},
   "source": [
    "## Visualization: conversion rate of two groups\n"
   ]
  },
  {
   "cell_type": "code",
   "execution_count": 69,
   "metadata": {},
   "outputs": [
    {
     "data": {
      "image/png": "[encoded data removed]",
      "text/plain": [
       "<Figure size 144x432 with 1 Axes>"
      ]
     },
     "metadata": {},
     "output_type": "display_data"
    }
   ],
   "source": [
    "agg = df[[\"converted\", \"group\"]].groupby(\"group\").aggregate([\"mean\", \"size\", \"sum\"])\n",
    "agg.columns = [\"conv_rate\", \"size\", \"count\"]\n",
    "\n",
    "# plotting\n",
    "fig = plt.figure(figsize=(2, 6))\n",
    "rects = plt.bar(x=agg.index, \n",
    "                height=agg[\"conv_rate\"], \n",
    "                width=[0.5, 0.5],\n",
    "                color=[\"#d8b365\", \"#5ab4ac\"], edgecolor=(0, 0, 0, 0))\n",
    "# customizing plot\n",
    "plt.grid(False)\n",
    "plt.grid(axis='y', color=\"white\")\n",
    "plt.ylim(0.09, 0.15);\n",
    "plt.xlabel(\"Group\")\n",
    "plt.ylabel(\"conversion rate\");\n",
    "plt.title(\"A/B Conversion rates\")\n",
    "ax = plt.gca()\n",
    "ax.spines['right'].set_visible(False)\n",
    "ax.spines['top'].set_visible(False)\n",
    "plt.tick_params(\n",
    "    axis='x',          # changes apply to the x-axis\n",
    "    bottom=False,      # ticks along the bottom edge are off\n",
    "    labelbottom=True) # labels along the bottom edge are off\n",
    "ax.set_axisbelow(True)\n",
    "\n",
    "# text on bars\n",
    "for i in [0, 1]:\n",
    "    height = rects[i].get_height()\n",
    "    plt.annotate(\"{:.3f}\".format(agg.iloc[i][\"conv_rate\"]), \n",
    "                 xy=(rects[i].get_x() + rects[i].get_width() / 2, height-0.004),\n",
    "                 xytext=(0, 2),\n",
    "                 fontsize=11,\n",
    "                 textcoords=\"offset points\",\n",
    "                 ha='center', \n",
    "                 va='bottom', \n",
    "                 color=\"white\")"
   ]
  },
  {
   "cell_type": "markdown",
   "metadata": {},
   "source": [
    "## Testing the hypothesis"
   ]
  },
  {
   "cell_type": "markdown",
   "metadata": {},
   "source": [
    "Before performing statistical test, we should calculate a required size of sample. \n",
    "\n",
    "Our goal is to be able to detect difference in 0.02 with probability 0.8 (it's called a power of test). Another parameter we mush choose by hands is $\\alpha$ - the level of significance (probability of type I error). Common choise is $\\alpha = 0.05$."
   ]
  },
  {
   "cell_type": "code",
   "execution_count": null,
   "metadata": {},
   "outputs": [],
   "source": [
    "preparation# compute standartized effect size\n",
    "from statsmodels.stats.proportion import proportion_effectsize\n",
    "\n",
    "n1 = agg.loc[\"control\", \"size\"]\n",
    "n2 = agg.loc[\"treatment\", \"size\"]\n",
    "p1 = agg.loc[\"control\", \"conv_rate\"]\n",
    "p2 = agg.loc[\"treatment\", \"conv_rate\"]\n",
    "# we want to capture change  in 0.02\n",
    "effect_size = proportion_effectsize(p1, p1+0.02)\n",
    "\n",
    "# calculating required sqmple size\n",
    "from statsmodels.stats.power import NormalIndPower\n",
    "alpha = 0.05\n",
    "print(\"alpha      = {:.3f}\".format(alpha))\n",
    "# assume standard deviations of p1 and p2 are equal \n",
    "required_n = NormalIndPower().solve_power(effect_size=effect_size, \n",
    "                                          alpha=alpha, \n",
    "                                          nobs1=None, \n",
    "                                          ratio=1, \n",
    "                                          power=0.8)\n",
    "required_n = np.ceil(required_n).astype(int)\n",
    "print(\"required n =\", required_n)\n",
    "\n",
    "control_sample = df[df[\"group\"]==\"control\"].sample(required_n)\n",
    "treatment_sample = df[df[\"group\"]==\"treatment\"].sample(required_n)"
   ]
  },
  {
   "cell_type": "markdown",
   "metadata": {},
   "source": [
    "Next - performing z-test. Our null hypothesis:\n",
    "$$H_0: p_1 = p_2$$\n",
    "with two-tailed alternative:\n",
    "$$H_1: p_1 \\neq p_2$$"
   ]
  },
  {
   "cell_type": "code",
   "execution_count": null,
   "metadata": {},
   "outputs": [],
   "source": [
    "from statsmodels.stats.proportion import proportions_ztest, proportion_confint\n",
    "\n",
    "\n",
    "count = [control_sample[\"converted\"].sum(),\n",
    "         treatment_sample[\"converted\"].sum()]\n",
    "nobs = [control_sample.shape[0],\n",
    "        treatment_sample.shape[0]]\n",
    "# perform z-test\n",
    "z_stat, p_val = proportions_ztest(count, nobs)\n",
    "# confidence intervals for true proportions\n",
    "(lower_con, lower_treat), (upper_con, upper_treat) = proportion_confint(count, nobs, alpha)"
   ]
  },
  {
   "cell_type": "markdown",
   "metadata": {},
   "source": [
    "Reporting the results:"
   ]
  },
  {
   "cell_type": "code",
   "execution_count": null,
   "metadata": {},
   "outputs": [],
   "source": [
    "print(\"z-statistic  = {:.3f}\".format(z_stat))\n",
    "print(\"p-value      = {:.3f}\".format(p_val))\n",
    "print(\"{:}% ci for conversion rate of control group   = ({:.4f}, {:.4f})\"\n",
    "      .format(int((1-alpha)*100), lower_con, upper_con))\n",
    "print(\"{:}% ci for conversion rate of treatment group = ({:.4f}, {:.4f})\"\n",
    "      .format(int((1-alpha)*100), lower_treat, upper_treat))\n"
   ]
  },
  {
   "cell_type": "markdown",
   "metadata": {},
   "source": [
    "## Conclusion"
   ]
  },
  {
   "cell_type": "markdown",
   "metadata": {},
   "source": [
    "p-value is much larger than $\\alpha=0.05$.\n",
    "Therefore, we can not reject the null hypothesis.\n",
    "\n",
    "\n",
    "We conclude that conversions rates in both groups are the same.\n",
    "Data doesn't show significant difference between two groups."
   ]
  }
 ],
 "metadata": {
  "kernelspec": {
   "display_name": "Python 3",
   "language": "python",
   "name": "python3"
  },
  "language_info": {
   "codemirror_mode": {
    "name": "ipython",
    "version": 3
   },
   "file_extension": ".py",
   "mimetype": "text/x-python",
   "name": "python",
   "nbconvert_exporter": "python",
   "pygments_lexer": "ipython3",
   "version": "3.8.2"
  }
 },
 "nbformat": 4,
 "nbformat_minor": 4
}
